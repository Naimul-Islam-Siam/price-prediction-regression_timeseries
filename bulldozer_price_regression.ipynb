{
  "nbformat": 4,
  "nbformat_minor": 0,
  "metadata": {
    "colab": {
      "name": "bulldozer-price-regression.ipynb",
      "provenance": [],
      "collapsed_sections": []
    },
    "kernelspec": {
      "name": "python3",
      "display_name": "Python 3"
    },
    "language_info": {
      "name": "python"
    }
  },
  "cells": [
    {
      "cell_type": "markdown",
      "metadata": {
        "id": "b0PivIqPX56o"
      },
      "source": [
        "## Predicting the Sale Price of Bulldozers\n",
        "\n",
        "In this notebook, we're going through a machine learning project with the goal of predicting the sale price of bulldozers."
      ]
    },
    {
      "cell_type": "markdown",
      "metadata": {
        "id": "DcBlQetpZImq"
      },
      "source": [
        "## 1. Problem Definition\n",
        "\n",
        "Predict the future sale price of a bulldozer, given previous examples of how much a smilar bulldozer had been sold for?"
      ]
    },
    {
      "cell_type": "markdown",
      "metadata": {
        "id": "f9bwd9zuaGPW"
      },
      "source": [
        "## 2. Data\n",
        "\n",
        "We are using Blue Book for Bulldozers dataset from kaggle: https://www.kaggle.com/c/bluebook-for-bulldozers/data\n",
        "\n",
        "The data for this project is split into three parts:\n",
        "\n",
        "- Train.csv is the training set, which contains data through the end of 2011.\n",
        "- Valid.csv is the validation set, which contains data from January 1, 2012 - April 30, 2012.\n",
        "- Test.csv is the test set, which contains data from May 1, 2012 - November 2012."
      ]
    },
    {
      "cell_type": "markdown",
      "metadata": {
        "id": "T7IxEU__bC0D"
      },
      "source": [
        "## 3. Evaluation\n",
        "\n",
        "The goal for most of the regression problems is to minimize error. For example, our goal for this project is to build a machine learning model which minimize **RMSLE(Root Mean Square Log Error)**."
      ]
    },
    {
      "cell_type": "markdown",
      "metadata": {
        "id": "iCUEP3VfoMuF"
      },
      "source": [
        "## 4. Features\n",
        "\n",
        "Kaggle provides a data dictionary detailing all of the features of the dataset. You can view this data dictionary on Google Sheets: https://docs.google.com/spreadsheets/d/18ly-bLR8sbDJLITkWG7ozKm8l3RyieQ2Fpgix-beSYI/edit?usp=sharing"
      ]
    },
    {
      "cell_type": "code",
      "metadata": {
        "id": "2sElah73Xnc2"
      },
      "source": [
        "import pandas as pd\n",
        "import numpy as np\n",
        "import matplotlib.pyplot as plt\n",
        "plt.style.use('seaborn-whitegrid')"
      ],
      "execution_count": 1,
      "outputs": []
    },
    {
      "cell_type": "code",
      "metadata": {
        "id": "Lpy5QFSQY4lj",
        "colab": {
          "base_uri": "https://localhost:8080/"
        },
        "outputId": "30698dfb-90e6-46bf-8290-27fd418330d9"
      },
      "source": [
        "# import training and validation data\n",
        "df = pd.read_csv(\"/content/drive/MyDrive/Bulldozer Price/Dataset/TrainAndValid.csv\", low_memory=False)\n",
        "df.info()"
      ],
      "execution_count": 2,
      "outputs": [
        {
          "output_type": "stream",
          "text": [
            "<class 'pandas.core.frame.DataFrame'>\n",
            "RangeIndex: 412698 entries, 0 to 412697\n",
            "Data columns (total 53 columns):\n",
            " #   Column                    Non-Null Count   Dtype  \n",
            "---  ------                    --------------   -----  \n",
            " 0   SalesID                   412698 non-null  int64  \n",
            " 1   SalePrice                 412698 non-null  float64\n",
            " 2   MachineID                 412698 non-null  int64  \n",
            " 3   ModelID                   412698 non-null  int64  \n",
            " 4   datasource                412698 non-null  int64  \n",
            " 5   auctioneerID              392562 non-null  float64\n",
            " 6   YearMade                  412698 non-null  int64  \n",
            " 7   MachineHoursCurrentMeter  147504 non-null  float64\n",
            " 8   UsageBand                 73670 non-null   object \n",
            " 9   saledate                  412698 non-null  object \n",
            " 10  fiModelDesc               412698 non-null  object \n",
            " 11  fiBaseModel               412698 non-null  object \n",
            " 12  fiSecondaryDesc           271971 non-null  object \n",
            " 13  fiModelSeries             58667 non-null   object \n",
            " 14  fiModelDescriptor         74816 non-null   object \n",
            " 15  ProductSize               196093 non-null  object \n",
            " 16  fiProductClassDesc        412698 non-null  object \n",
            " 17  state                     412698 non-null  object \n",
            " 18  ProductGroup              412698 non-null  object \n",
            " 19  ProductGroupDesc          412698 non-null  object \n",
            " 20  Drive_System              107087 non-null  object \n",
            " 21  Enclosure                 412364 non-null  object \n",
            " 22  Forks                     197715 non-null  object \n",
            " 23  Pad_Type                  81096 non-null   object \n",
            " 24  Ride_Control              152728 non-null  object \n",
            " 25  Stick                     81096 non-null   object \n",
            " 26  Transmission              188007 non-null  object \n",
            " 27  Turbocharged              81096 non-null   object \n",
            " 28  Blade_Extension           25983 non-null   object \n",
            " 29  Blade_Width               25983 non-null   object \n",
            " 30  Enclosure_Type            25983 non-null   object \n",
            " 31  Engine_Horsepower         25983 non-null   object \n",
            " 32  Hydraulics                330133 non-null  object \n",
            " 33  Pushblock                 25983 non-null   object \n",
            " 34  Ripper                    106945 non-null  object \n",
            " 35  Scarifier                 25994 non-null   object \n",
            " 36  Tip_Control               25983 non-null   object \n",
            " 37  Tire_Size                 97638 non-null   object \n",
            " 38  Coupler                   220679 non-null  object \n",
            " 39  Coupler_System            44974 non-null   object \n",
            " 40  Grouser_Tracks            44875 non-null   object \n",
            " 41  Hydraulics_Flow           44875 non-null   object \n",
            " 42  Track_Type                102193 non-null  object \n",
            " 43  Undercarriage_Pad_Width   102916 non-null  object \n",
            " 44  Stick_Length              102261 non-null  object \n",
            " 45  Thumb                     102332 non-null  object \n",
            " 46  Pattern_Changer           102261 non-null  object \n",
            " 47  Grouser_Type              102193 non-null  object \n",
            " 48  Backhoe_Mounting          80712 non-null   object \n",
            " 49  Blade_Type                81875 non-null   object \n",
            " 50  Travel_Controls           81877 non-null   object \n",
            " 51  Differential_Type         71564 non-null   object \n",
            " 52  Steering_Controls         71522 non-null   object \n",
            "dtypes: float64(3), int64(5), object(45)\n",
            "memory usage: 166.9+ MB\n"
          ],
          "name": "stdout"
        }
      ]
    },
    {
      "cell_type": "code",
      "metadata": {
        "colab": {
          "base_uri": "https://localhost:8080/",
          "height": 588
        },
        "id": "9ApYaU79qkRw",
        "outputId": "75d31397-ab24-4c92-a587-461d3a78bb93"
      },
      "source": [
        "fig, ax = plt.subplots(figsize=(12, 10))\n",
        "\n",
        "ax.scatter(df[\"saledate\"][:1000], df[\"SalePrice\"][:1000]);"
      ],
      "execution_count": 3,
      "outputs": [
        {
          "output_type": "display_data",
          "data": {
            "image/png": "[encoded data removed]",
            "text/plain": [
              "<Figure size 864x720 with 1 Axes>"
            ]
          },
          "metadata": {
            "tags": [],
            "needs_background": "light"
          }
        }
      ]
    },
    {
      "cell_type": "code",
      "metadata": {
        "colab": {
          "base_uri": "https://localhost:8080/",
          "height": 262
        },
        "id": "E58KNTe4rBbs",
        "outputId": "87c658a7-07db-4866-b6fc-14a2d909f0fa"
      },
      "source": [
        "df.SalePrice.hist();"
      ],
      "execution_count": 4,
      "outputs": [
        {
          "output_type": "display_data",
          "data": {
            "image/png": "[encoded data removed]",
            "text/plain": [
              "<Figure size 432x288 with 1 Axes>"
            ]
          },
          "metadata": {
            "tags": [],
            "needs_background": "light"
          }
        }
      ]
    },
    {
      "cell_type": "code",
      "metadata": {
        "colab": {
          "base_uri": "https://localhost:8080/"
        },
        "id": "cWuQStPats-Z",
        "outputId": "681803fc-22d9-4d92-dea0-04fee96426c9"
      },
      "source": [
        "df.saledate[:10]"
      ],
      "execution_count": 5,
      "outputs": [
        {
          "output_type": "execute_result",
          "data": {
            "text/plain": [
              "0    11/16/2006 0:00\n",
              "1     3/26/2004 0:00\n",
              "2     2/26/2004 0:00\n",
              "3     5/19/2011 0:00\n",
              "4     7/23/2009 0:00\n",
              "5    12/18/2008 0:00\n",
              "6     8/26/2004 0:00\n",
              "7    11/17/2005 0:00\n",
              "8     8/27/2009 0:00\n",
              "9      8/9/2007 0:00\n",
              "Name: saledate, dtype: object"
            ]
          },
          "metadata": {
            "tags": []
          },
          "execution_count": 5
        }
      ]
    },
    {
      "cell_type": "code",
      "metadata": {
        "colab": {
          "base_uri": "https://localhost:8080/"
        },
        "id": "f74_J7AStG85",
        "outputId": "f8ccb70d-ef4d-4daf-948b-c0e195cc6d91"
      },
      "source": [
        "df.saledate.dtype"
      ],
      "execution_count": 6,
      "outputs": [
        {
          "output_type": "execute_result",
          "data": {
            "text/plain": [
              "dtype('O')"
            ]
          },
          "metadata": {
            "tags": []
          },
          "execution_count": 6
        }
      ]
    },
    {
      "cell_type": "markdown",
      "metadata": {
        "id": "DJIXFdRRseQP"
      },
      "source": [
        "#### Parsing Dates\n",
        "\n",
        "When we work with time series data, we want to enrich the time & date component as much as possible.\n",
        "\n",
        "We can do that by telling pandas which of which of our columns have dates in it using `parse_dates` parameter."
      ]
    },
    {
      "cell_type": "code",
      "metadata": {
        "id": "cJHuW11SsHdM"
      },
      "source": [
        "# Covert dates to date dtype\n",
        "df = pd.read_csv(\"/content/drive/MyDrive/Bulldozer Price/Dataset/TrainAndValid.csv\", low_memory=False, parse_dates=[\"saledate\"])"
      ],
      "execution_count": 7,
      "outputs": []
    },
    {
      "cell_type": "code",
      "metadata": {
        "colab": {
          "base_uri": "https://localhost:8080/"
        },
        "id": "ptsdDjL3tkea",
        "outputId": "19c5b63f-ad17-4315-cb23-92741fa83738"
      },
      "source": [
        "df.saledate.dtype"
      ],
      "execution_count": 8,
      "outputs": [
        {
          "output_type": "execute_result",
          "data": {
            "text/plain": [
              "dtype('<M8[ns]')"
            ]
          },
          "metadata": {
            "tags": []
          },
          "execution_count": 8
        }
      ]
    },
    {
      "cell_type": "code",
      "metadata": {
        "colab": {
          "base_uri": "https://localhost:8080/"
        },
        "id": "-MiKfn8-tnTo",
        "outputId": "b176af1c-b429-4399-f765-9b297a7f08b6"
      },
      "source": [
        "df.saledate[:10]"
      ],
      "execution_count": 9,
      "outputs": [
        {
          "output_type": "execute_result",
          "data": {
            "text/plain": [
              "0   2006-11-16\n",
              "1   2004-03-26\n",
              "2   2004-02-26\n",
              "3   2011-05-19\n",
              "4   2009-07-23\n",
              "5   2008-12-18\n",
              "6   2004-08-26\n",
              "7   2005-11-17\n",
              "8   2009-08-27\n",
              "9   2007-08-09\n",
              "Name: saledate, dtype: datetime64[ns]"
            ]
          },
          "metadata": {
            "tags": []
          },
          "execution_count": 9
        }
      ]
    },
    {
      "cell_type": "code",
      "metadata": {
        "colab": {
          "base_uri": "https://localhost:8080/",
          "height": 588
        },
        "id": "7iYgBUkutqYu",
        "outputId": "0822da1e-a270-40ba-da1a-5b41726fe224"
      },
      "source": [
        "fig, ax = plt.subplots(figsize=(12, 10))\n",
        "\n",
        "ax.scatter(df[\"saledate\"][:1000], df[\"SalePrice\"][:1000]);"
      ],
      "execution_count": 10,
      "outputs": [
        {
          "output_type": "display_data",
          "data": {
            "image/png": "[encoded data removed]",
            "text/plain": [
              "<Figure size 864x720 with 1 Axes>"
            ]
          },
          "metadata": {
            "tags": [],
            "needs_background": "light"
          }
        }
      ]
    },
    {
      "cell_type": "code",
      "metadata": {
        "colab": {
          "base_uri": "https://localhost:8080/",
          "height": 360
        },
        "id": "FnczNY7lt-03",
        "outputId": "0ad6a108-6ef7-481c-d9f3-53e35c30aa57"
      },
      "source": [
        "df.head()"
      ],
      "execution_count": 11,
      "outputs": [
        {
          "output_type": "execute_result",
          "data": {
            "text/html": [
              "<div>\n",
              "<style scoped>\n",
              "    .dataframe tbody tr th:only-of-type {\n",
              "        vertical-align: middle;\n",
              "    }\n",
              "\n",
              "    .dataframe tbody tr th {\n",
              "        vertical-align: top;\n",
              "    }\n",
              "\n",
              "    .dataframe thead th {\n",
              "        text-align: right;\n",
              "    }\n",
              "</style>\n",
              "<table border=\"1\" class=\"dataframe\">\n",
              "  <thead>\n",
              "    <tr style=\"text-align: right;\">\n",
              "      <th></th>\n",
              "      <th>SalesID</th>\n",
              "      <th>SalePrice</th>\n",
              "      <th>MachineID</th>\n",
              "      <th>ModelID</th>\n",
              "      <th>datasource</th>\n",
              "      <th>auctioneerID</th>\n",
              "      <th>YearMade</th>\n",
              "      <th>MachineHoursCurrentMeter</th>\n",
              "      <th>UsageBand</th>\n",
              "      <th>saledate</th>\n",
              "      <th>fiModelDesc</th>\n",
              "      <th>fiBaseModel</th>\n",
              "      <th>fiSecondaryDesc</th>\n",
              "      <th>fiModelSeries</th>\n",
              "      <th>fiModelDescriptor</th>\n",
              "      <th>ProductSize</th>\n",
              "      <th>fiProductClassDesc</th>\n",
              "      <th>state</th>\n",
              "      <th>ProductGroup</th>\n",
              "      <th>ProductGroupDesc</th>\n",
              "      <th>Drive_System</th>\n",
              "      <th>Enclosure</th>\n",
              "      <th>Forks</th>\n",
              "      <th>Pad_Type</th>\n",
              "      <th>Ride_Control</th>\n",
              "      <th>Stick</th>\n",
              "      <th>Transmission</th>\n",
              "      <th>Turbocharged</th>\n",
              "      <th>Blade_Extension</th>\n",
              "      <th>Blade_Width</th>\n",
              "      <th>Enclosure_Type</th>\n",
              "      <th>Engine_Horsepower</th>\n",
              "      <th>Hydraulics</th>\n",
              "      <th>Pushblock</th>\n",
              "      <th>Ripper</th>\n",
              "      <th>Scarifier</th>\n",
              "      <th>Tip_Control</th>\n",
              "      <th>Tire_Size</th>\n",
              "      <th>Coupler</th>\n",
              "      <th>Coupler_System</th>\n",
              "      <th>Grouser_Tracks</th>\n",
              "      <th>Hydraulics_Flow</th>\n",
              "      <th>Track_Type</th>\n",
              "      <th>Undercarriage_Pad_Width</th>\n",
              "      <th>Stick_Length</th>\n",
              "      <th>Thumb</th>\n",
              "      <th>Pattern_Changer</th>\n",
              "      <th>Grouser_Type</th>\n",
              "      <th>Backhoe_Mounting</th>\n",
              "      <th>Blade_Type</th>\n",
              "      <th>Travel_Controls</th>\n",
              "      <th>Differential_Type</th>\n",
              "      <th>Steering_Controls</th>\n",
              "    </tr>\n",
              "  </thead>\n",
              "  <tbody>\n",
              "    <tr>\n",
              "      <th>0</th>\n",
              "      <td>1139246</td>\n",
              "      <td>66000.0</td>\n",
              "      <td>999089</td>\n",
              "      <td>3157</td>\n",
              "      <td>121</td>\n",
              "      <td>3.0</td>\n",
              "      <td>2004</td>\n",
              "      <td>68.0</td>\n",
              "      <td>Low</td>\n",
              "      <td>2006-11-16</td>\n",
              "      <td>521D</td>\n",
              "      <td>521</td>\n",
              "      <td>D</td>\n",
              "      <td>NaN</td>\n",
              "      <td>NaN</td>\n",
              "      <td>NaN</td>\n",
              "      <td>Wheel Loader - 110.0 to 120.0 Horsepower</td>\n",
              "      <td>Alabama</td>\n",
              "      <td>WL</td>\n",
              "      <td>Wheel Loader</td>\n",
              "      <td>NaN</td>\n",
              "      <td>EROPS w AC</td>\n",
              "      <td>None or Unspecified</td>\n",
              "      <td>NaN</td>\n",
              "      <td>None or Unspecified</td>\n",
              "      <td>NaN</td>\n",
              "      <td>NaN</td>\n",
              "      <td>NaN</td>\n",
              "      <td>NaN</td>\n",
              "      <td>NaN</td>\n",
              "      <td>NaN</td>\n",
              "      <td>NaN</td>\n",
              "      <td>2 Valve</td>\n",
              "      <td>NaN</td>\n",
              "      <td>NaN</td>\n",
              "      <td>NaN</td>\n",
              "      <td>NaN</td>\n",
              "      <td>None or Unspecified</td>\n",
              "      <td>None or Unspecified</td>\n",
              "      <td>NaN</td>\n",
              "      <td>NaN</td>\n",
              "      <td>NaN</td>\n",
              "      <td>NaN</td>\n",
              "      <td>NaN</td>\n",
              "      <td>NaN</td>\n",
              "      <td>NaN</td>\n",
              "      <td>NaN</td>\n",
              "      <td>NaN</td>\n",
              "      <td>NaN</td>\n",
              "      <td>NaN</td>\n",
              "      <td>NaN</td>\n",
              "      <td>Standard</td>\n",
              "      <td>Conventional</td>\n",
              "    </tr>\n",
              "    <tr>\n",
              "      <th>1</th>\n",
              "      <td>1139248</td>\n",
              "      <td>57000.0</td>\n",
              "      <td>117657</td>\n",
              "      <td>77</td>\n",
              "      <td>121</td>\n",
              "      <td>3.0</td>\n",
              "      <td>1996</td>\n",
              "      <td>4640.0</td>\n",
              "      <td>Low</td>\n",
              "      <td>2004-03-26</td>\n",
              "      <td>950FII</td>\n",
              "      <td>950</td>\n",
              "      <td>F</td>\n",
              "      <td>II</td>\n",
              "      <td>NaN</td>\n",
              "      <td>Medium</td>\n",
              "      <td>Wheel Loader - 150.0 to 175.0 Horsepower</td>\n",
              "      <td>North Carolina</td>\n",
              "      <td>WL</td>\n",
              "      <td>Wheel Loader</td>\n",
              "      <td>NaN</td>\n",
              "      <td>EROPS w AC</td>\n",
              "      <td>None or Unspecified</td>\n",
              "      <td>NaN</td>\n",
              "      <td>None or Unspecified</td>\n",
              "      <td>NaN</td>\n",
              "      <td>NaN</td>\n",
              "      <td>NaN</td>\n",
              "      <td>NaN</td>\n",
              "      <td>NaN</td>\n",
              "      <td>NaN</td>\n",
              "      <td>NaN</td>\n",
              "      <td>2 Valve</td>\n",
              "      <td>NaN</td>\n",
              "      <td>NaN</td>\n",
              "      <td>NaN</td>\n",
              "      <td>NaN</td>\n",
              "      <td>23.5</td>\n",
              "      <td>None or Unspecified</td>\n",
              "      <td>NaN</td>\n",
              "      <td>NaN</td>\n",
              "      <td>NaN</td>\n",
              "      <td>NaN</td>\n",
              "      <td>NaN</td>\n",
              "      <td>NaN</td>\n",
              "      <td>NaN</td>\n",
              "      <td>NaN</td>\n",
              "      <td>NaN</td>\n",
              "      <td>NaN</td>\n",
              "      <td>NaN</td>\n",
              "      <td>NaN</td>\n",
              "      <td>Standard</td>\n",
              "      <td>Conventional</td>\n",
              "    </tr>\n",
              "    <tr>\n",
              "      <th>2</th>\n",
              "      <td>1139249</td>\n",
              "      <td>10000.0</td>\n",
              "      <td>434808</td>\n",
              "      <td>7009</td>\n",
              "      <td>121</td>\n",
              "      <td>3.0</td>\n",
              "      <td>2001</td>\n",
              "      <td>2838.0</td>\n",
              "      <td>High</td>\n",
              "      <td>2004-02-26</td>\n",
              "      <td>226</td>\n",
              "      <td>226</td>\n",
              "      <td>NaN</td>\n",
              "      <td>NaN</td>\n",
              "      <td>NaN</td>\n",
              "      <td>NaN</td>\n",
              "      <td>Skid Steer Loader - 1351.0 to 1601.0 Lb Operat...</td>\n",
              "      <td>New York</td>\n",
              "      <td>SSL</td>\n",
              "      <td>Skid Steer Loaders</td>\n",
              "      <td>NaN</td>\n",
              "      <td>OROPS</td>\n",
              "      <td>None or Unspecified</td>\n",
              "      <td>NaN</td>\n",
              "      <td>NaN</td>\n",
              "      <td>NaN</td>\n",
              "      <td>NaN</td>\n",
              "      <td>NaN</td>\n",
              "      <td>NaN</td>\n",
              "      <td>NaN</td>\n",
              "      <td>NaN</td>\n",
              "      <td>NaN</td>\n",
              "      <td>Auxiliary</td>\n",
              "      <td>NaN</td>\n",
              "      <td>NaN</td>\n",
              "      <td>NaN</td>\n",
              "      <td>NaN</td>\n",
              "      <td>NaN</td>\n",
              "      <td>None or Unspecified</td>\n",
              "      <td>None or Unspecified</td>\n",
              "      <td>None or Unspecified</td>\n",
              "      <td>Standard</td>\n",
              "      <td>NaN</td>\n",
              "      <td>NaN</td>\n",
              "      <td>NaN</td>\n",
              "      <td>NaN</td>\n",
              "      <td>NaN</td>\n",
              "      <td>NaN</td>\n",
              "      <td>NaN</td>\n",
              "      <td>NaN</td>\n",
              "      <td>NaN</td>\n",
              "      <td>NaN</td>\n",
              "      <td>NaN</td>\n",
              "    </tr>\n",
              "    <tr>\n",
              "      <th>3</th>\n",
              "      <td>1139251</td>\n",
              "      <td>38500.0</td>\n",
              "      <td>1026470</td>\n",
              "      <td>332</td>\n",
              "      <td>121</td>\n",
              "      <td>3.0</td>\n",
              "      <td>2001</td>\n",
              "      <td>3486.0</td>\n",
              "      <td>High</td>\n",
              "      <td>2011-05-19</td>\n",
              "      <td>PC120-6E</td>\n",
              "      <td>PC120</td>\n",
              "      <td>NaN</td>\n",
              "      <td>-6E</td>\n",
              "      <td>NaN</td>\n",
              "      <td>Small</td>\n",
              "      <td>Hydraulic Excavator, Track - 12.0 to 14.0 Metr...</td>\n",
              "      <td>Texas</td>\n",
              "      <td>TEX</td>\n",
              "      <td>Track Excavators</td>\n",
              "      <td>NaN</td>\n",
              "      <td>EROPS w AC</td>\n",
              "      <td>NaN</td>\n",
              "      <td>NaN</td>\n",
              "      <td>NaN</td>\n",
              "      <td>NaN</td>\n",
              "      <td>NaN</td>\n",
              "      <td>NaN</td>\n",
              "      <td>NaN</td>\n",
              "      <td>NaN</td>\n",
              "      <td>NaN</td>\n",
              "      <td>NaN</td>\n",
              "      <td>2 Valve</td>\n",
              "      <td>NaN</td>\n",
              "      <td>NaN</td>\n",
              "      <td>NaN</td>\n",
              "      <td>NaN</td>\n",
              "      <td>NaN</td>\n",
              "      <td>None or Unspecified</td>\n",
              "      <td>NaN</td>\n",
              "      <td>NaN</td>\n",
              "      <td>NaN</td>\n",
              "      <td>NaN</td>\n",
              "      <td>NaN</td>\n",
              "      <td>NaN</td>\n",
              "      <td>NaN</td>\n",
              "      <td>NaN</td>\n",
              "      <td>NaN</td>\n",
              "      <td>NaN</td>\n",
              "      <td>NaN</td>\n",
              "      <td>NaN</td>\n",
              "      <td>NaN</td>\n",
              "      <td>NaN</td>\n",
              "    </tr>\n",
              "    <tr>\n",
              "      <th>4</th>\n",
              "      <td>1139253</td>\n",
              "      <td>11000.0</td>\n",
              "      <td>1057373</td>\n",
              "      <td>17311</td>\n",
              "      <td>121</td>\n",
              "      <td>3.0</td>\n",
              "      <td>2007</td>\n",
              "      <td>722.0</td>\n",
              "      <td>Medium</td>\n",
              "      <td>2009-07-23</td>\n",
              "      <td>S175</td>\n",
              "      <td>S175</td>\n",
              "      <td>NaN</td>\n",
              "      <td>NaN</td>\n",
              "      <td>NaN</td>\n",
              "      <td>NaN</td>\n",
              "      <td>Skid Steer Loader - 1601.0 to 1751.0 Lb Operat...</td>\n",
              "      <td>New York</td>\n",
              "      <td>SSL</td>\n",
              "      <td>Skid Steer Loaders</td>\n",
              "      <td>NaN</td>\n",
              "      <td>EROPS</td>\n",
              "      <td>None or Unspecified</td>\n",
              "      <td>NaN</td>\n",
              "      <td>NaN</td>\n",
              "      <td>NaN</td>\n",
              "      <td>NaN</td>\n",
              "      <td>NaN</td>\n",
              "      <td>NaN</td>\n",
              "      <td>NaN</td>\n",
              "      <td>NaN</td>\n",
              "      <td>NaN</td>\n",
              "      <td>Auxiliary</td>\n",
              "      <td>NaN</td>\n",
              "      <td>NaN</td>\n",
              "      <td>NaN</td>\n",
              "      <td>NaN</td>\n",
              "      <td>NaN</td>\n",
              "      <td>None or Unspecified</td>\n",
              "      <td>None or Unspecified</td>\n",
              "      <td>None or Unspecified</td>\n",
              "      <td>Standard</td>\n",
              "      <td>NaN</td>\n",
              "      <td>NaN</td>\n",
              "      <td>NaN</td>\n",
              "      <td>NaN</td>\n",
              "      <td>NaN</td>\n",
              "      <td>NaN</td>\n",
              "      <td>NaN</td>\n",
              "      <td>NaN</td>\n",
              "      <td>NaN</td>\n",
              "      <td>NaN</td>\n",
              "      <td>NaN</td>\n",
              "    </tr>\n",
              "  </tbody>\n",
              "</table>\n",
              "</div>"
            ],
            "text/plain": [
              "   SalesID  SalePrice  ...  Differential_Type  Steering_Controls\n",
              "0  1139246    66000.0  ...           Standard       Conventional\n",
              "1  1139248    57000.0  ...           Standard       Conventional\n",
              "2  1139249    10000.0  ...                NaN                NaN\n",
              "3  1139251    38500.0  ...                NaN                NaN\n",
              "4  1139253    11000.0  ...                NaN                NaN\n",
              "\n",
              "[5 rows x 53 columns]"
            ]
          },
          "metadata": {
            "tags": []
          },
          "execution_count": 11
        }
      ]
    },
    {
      "cell_type": "markdown",
      "metadata": {
        "id": "tpZRTVw8v0WF"
      },
      "source": [
        "#### Sort dataframe by date\n",
        "\n",
        "When working with time-series data, it's a good idea to sort the data by date."
      ]
    },
    {
      "cell_type": "code",
      "metadata": {
        "id": "SwRd9KuGv8kS"
      },
      "source": [
        "df.sort_values(by=[\"saledate\"], ascending=True, inplace=True)"
      ],
      "execution_count": 12,
      "outputs": []
    },
    {
      "cell_type": "code",
      "metadata": {
        "colab": {
          "base_uri": "https://localhost:8080/"
        },
        "id": "zSRRDIGjwPt7",
        "outputId": "0bc85049-6826-457a-c53f-c47d9ec2bdb7"
      },
      "source": [
        "df.saledate.head()"
      ],
      "execution_count": 13,
      "outputs": [
        {
          "output_type": "execute_result",
          "data": {
            "text/plain": [
              "205615   1989-01-17\n",
              "274835   1989-01-31\n",
              "141296   1989-01-31\n",
              "212552   1989-01-31\n",
              "62755    1989-01-31\n",
              "Name: saledate, dtype: datetime64[ns]"
            ]
          },
          "metadata": {
            "tags": []
          },
          "execution_count": 13
        }
      ]
    },
    {
      "cell_type": "code",
      "metadata": {
        "id": "Jl1CL0Csws5g"
      },
      "source": [
        "# Make a backup copy of the dataframe\n",
        "df_tmp = df.copy()"
      ],
      "execution_count": 14,
      "outputs": []
    },
    {
      "cell_type": "markdown",
      "metadata": {
        "id": "r4R3n-Kb5nsu"
      },
      "source": [
        "## Feature Engineering"
      ]
    },
    {
      "cell_type": "code",
      "metadata": {
        "colab": {
          "base_uri": "https://localhost:8080/"
        },
        "id": "KgdWzgRJ5wis",
        "outputId": "ab63e7a0-8cd0-459d-bd8c-2ca0d2f328f7"
      },
      "source": [
        "df[:1].saledate"
      ],
      "execution_count": 15,
      "outputs": [
        {
          "output_type": "execute_result",
          "data": {
            "text/plain": [
              "205615   1989-01-17\n",
              "Name: saledate, dtype: datetime64[ns]"
            ]
          },
          "metadata": {
            "tags": []
          },
          "execution_count": 15
        }
      ]
    },
    {
      "cell_type": "code",
      "metadata": {
        "colab": {
          "base_uri": "https://localhost:8080/"
        },
        "id": "PcTVS2HT5pdB",
        "outputId": "88d6daa6-2971-4536-be80-732f10f6a8a5"
      },
      "source": [
        "df[:1].saledate.dt.year"
      ],
      "execution_count": 16,
      "outputs": [
        {
          "output_type": "execute_result",
          "data": {
            "text/plain": [
              "205615    1989\n",
              "Name: saledate, dtype: int64"
            ]
          },
          "metadata": {
            "tags": []
          },
          "execution_count": 16
        }
      ]
    },
    {
      "cell_type": "code",
      "metadata": {
        "colab": {
          "base_uri": "https://localhost:8080/"
        },
        "id": "7lzc91na5usZ",
        "outputId": "0cc1a5aa-553b-4409-fd30-096bda951b47"
      },
      "source": [
        "df[:1].saledate.dt.day"
      ],
      "execution_count": 17,
      "outputs": [
        {
          "output_type": "execute_result",
          "data": {
            "text/plain": [
              "205615    17\n",
              "Name: saledate, dtype: int64"
            ]
          },
          "metadata": {
            "tags": []
          },
          "execution_count": 17
        }
      ]
    },
    {
      "cell_type": "markdown",
      "metadata": {
        "id": "K9Wl4CxJ6tQL"
      },
      "source": [
        "#### Add datetime parameters for `saledate` column"
      ]
    },
    {
      "cell_type": "code",
      "metadata": {
        "id": "3L_MwQcu51Hc"
      },
      "source": [
        "df_tmp[\"saleYear\"] = df_tmp.saledate.dt.year\n",
        "df_tmp[\"saleMonth\"] = df_tmp.saledate.dt.month\n",
        "df_tmp[\"saleDay\"] = df_tmp.saledate.dt.day\n",
        "df_tmp[\"saleDayOfWeek\"] = df_tmp.saledate.dt.dayofweek\n",
        "df_tmp[\"saleDayOfYear\"] = df_tmp.saledate.dt.dayofyear"
      ],
      "execution_count": 18,
      "outputs": []
    },
    {
      "cell_type": "code",
      "metadata": {
        "id": "4JFyoPbe6eqd"
      },
      "source": [
        "# As we have enriched our DataFrame with datetime features, we can remove saledate column\n",
        "df_tmp.drop(\"saledate\", axis=1, inplace=True)"
      ],
      "execution_count": 19,
      "outputs": []
    },
    {
      "cell_type": "markdown",
      "metadata": {
        "id": "zE89MY5APa2W"
      },
      "source": [
        "### Turning data into numbers\n",
        "\n",
        "One way we can turn all of our data into numbers is by converting them into padas `category`"
      ]
    },
    {
      "cell_type": "code",
      "metadata": {
        "id": "rTlHYqM4MzhF"
      },
      "source": [
        "# Find the columns that has dtype string\n",
        "\n",
        "# label is the label name, content is the contents of that label\n",
        "for label, content in df_tmp.items():\n",
        "  if pd.api.types.is_string_dtype(content):\n",
        "    df_tmp[label] = content.astype(\"category\").cat.as_ordered() # convert string dtypes into category dtype"
      ],
      "execution_count": 20,
      "outputs": []
    },
    {
      "cell_type": "markdown",
      "metadata": {
        "id": "jHgsl9NnRuTm"
      },
      "source": [
        "### Dealing with missing values"
      ]
    },
    {
      "cell_type": "code",
      "metadata": {
        "colab": {
          "base_uri": "https://localhost:8080/"
        },
        "id": "vQvynxw6o4DD",
        "outputId": "9888c123-68b9-43db-8de4-b5f17ae0fc67"
      },
      "source": [
        "df_tmp.isna().sum()"
      ],
      "execution_count": 21,
      "outputs": [
        {
          "output_type": "execute_result",
          "data": {
            "text/plain": [
              "SalesID                          0\n",
              "SalePrice                        0\n",
              "MachineID                        0\n",
              "ModelID                          0\n",
              "datasource                       0\n",
              "auctioneerID                 20136\n",
              "YearMade                         0\n",
              "MachineHoursCurrentMeter    265194\n",
              "UsageBand                   339028\n",
              "fiModelDesc                      0\n",
              "fiBaseModel                      0\n",
              "fiSecondaryDesc             140727\n",
              "fiModelSeries               354031\n",
              "fiModelDescriptor           337882\n",
              "ProductSize                 216605\n",
              "fiProductClassDesc               0\n",
              "state                            0\n",
              "ProductGroup                     0\n",
              "ProductGroupDesc                 0\n",
              "Drive_System                305611\n",
              "Enclosure                      334\n",
              "Forks                       214983\n",
              "Pad_Type                    331602\n",
              "Ride_Control                259970\n",
              "Stick                       331602\n",
              "Transmission                224691\n",
              "Turbocharged                331602\n",
              "Blade_Extension             386715\n",
              "Blade_Width                 386715\n",
              "Enclosure_Type              386715\n",
              "Engine_Horsepower           386715\n",
              "Hydraulics                   82565\n",
              "Pushblock                   386715\n",
              "Ripper                      305753\n",
              "Scarifier                   386704\n",
              "Tip_Control                 386715\n",
              "Tire_Size                   315060\n",
              "Coupler                     192019\n",
              "Coupler_System              367724\n",
              "Grouser_Tracks              367823\n",
              "Hydraulics_Flow             367823\n",
              "Track_Type                  310505\n",
              "Undercarriage_Pad_Width     309782\n",
              "Stick_Length                310437\n",
              "Thumb                       310366\n",
              "Pattern_Changer             310437\n",
              "Grouser_Type                310505\n",
              "Backhoe_Mounting            331986\n",
              "Blade_Type                  330823\n",
              "Travel_Controls             330821\n",
              "Differential_Type           341134\n",
              "Steering_Controls           341176\n",
              "saleYear                         0\n",
              "saleMonth                        0\n",
              "saleDay                          0\n",
              "saleDayOfWeek                    0\n",
              "saleDayOfYear                    0\n",
              "dtype: int64"
            ]
          },
          "metadata": {
            "tags": []
          },
          "execution_count": 21
        }
      ]
    },
    {
      "cell_type": "markdown",
      "metadata": {
        "id": "kjO9ldR8TUxE"
      },
      "source": [
        "**Fill Missing Numeric Values**"
      ]
    },
    {
      "cell_type": "code",
      "metadata": {
        "colab": {
          "base_uri": "https://localhost:8080/"
        },
        "id": "aHixq8xoRxN_",
        "outputId": "3c39b50e-8572-42a6-fc76-7556c9bb93b8"
      },
      "source": [
        "# Check which columns have null values that have numeric dtype\n",
        "for label, content in df_tmp.items():\n",
        "  if pd.api.types.is_numeric_dtype(content):\n",
        "    if pd.isnull(content).sum():\n",
        "      print(label)"
      ],
      "execution_count": 22,
      "outputs": [
        {
          "output_type": "stream",
          "text": [
            "auctioneerID\n",
            "MachineHoursCurrentMeter\n"
          ],
          "name": "stdout"
        }
      ]
    },
    {
      "cell_type": "code",
      "metadata": {
        "id": "jxxZ14YUSwS4"
      },
      "source": [
        "# Fill missing values with median value\n",
        "for label, content in df_tmp.items():\n",
        "  if pd.api.types.is_numeric_dtype(content):\n",
        "    if pd.isnull(content).sum():\n",
        "      df_tmp[label] = content.fillna(content.median())"
      ],
      "execution_count": 23,
      "outputs": []
    },
    {
      "cell_type": "markdown",
      "metadata": {
        "id": "zrCNGAm2WE-Y"
      },
      "source": [
        "**Filling Missing Pandas Category type Values**"
      ]
    },
    {
      "cell_type": "code",
      "metadata": {
        "id": "UIMfPxRdUr2S"
      },
      "source": [
        "for label, content in df_tmp.items():\n",
        "  # as the columns that are not numeric will be of pandas category type\n",
        "  if not pd.api.types.is_numeric_dtype(content):\n",
        "    # Turn categories into numbers\n",
        "    df_tmp[label] = pd.Categorical(content).codes+1 # by default pd category set a code of -1 for missing values, that's why we added 1 to make it 0."
      ],
      "execution_count": 24,
      "outputs": []
    },
    {
      "cell_type": "code",
      "metadata": {
        "colab": {
          "base_uri": "https://localhost:8080/"
        },
        "id": "uAZ5xobcVj1U",
        "outputId": "83a2479b-ff9d-40d4-a01b-869f6322d759"
      },
      "source": [
        "df_tmp.isna().sum()"
      ],
      "execution_count": 25,
      "outputs": [
        {
          "output_type": "execute_result",
          "data": {
            "text/plain": [
              "SalesID                     0\n",
              "SalePrice                   0\n",
              "MachineID                   0\n",
              "ModelID                     0\n",
              "datasource                  0\n",
              "auctioneerID                0\n",
              "YearMade                    0\n",
              "MachineHoursCurrentMeter    0\n",
              "UsageBand                   0\n",
              "fiModelDesc                 0\n",
              "fiBaseModel                 0\n",
              "fiSecondaryDesc             0\n",
              "fiModelSeries               0\n",
              "fiModelDescriptor           0\n",
              "ProductSize                 0\n",
              "fiProductClassDesc          0\n",
              "state                       0\n",
              "ProductGroup                0\n",
              "ProductGroupDesc            0\n",
              "Drive_System                0\n",
              "Enclosure                   0\n",
              "Forks                       0\n",
              "Pad_Type                    0\n",
              "Ride_Control                0\n",
              "Stick                       0\n",
              "Transmission                0\n",
              "Turbocharged                0\n",
              "Blade_Extension             0\n",
              "Blade_Width                 0\n",
              "Enclosure_Type              0\n",
              "Engine_Horsepower           0\n",
              "Hydraulics                  0\n",
              "Pushblock                   0\n",
              "Ripper                      0\n",
              "Scarifier                   0\n",
              "Tip_Control                 0\n",
              "Tire_Size                   0\n",
              "Coupler                     0\n",
              "Coupler_System              0\n",
              "Grouser_Tracks              0\n",
              "Hydraulics_Flow             0\n",
              "Track_Type                  0\n",
              "Undercarriage_Pad_Width     0\n",
              "Stick_Length                0\n",
              "Thumb                       0\n",
              "Pattern_Changer             0\n",
              "Grouser_Type                0\n",
              "Backhoe_Mounting            0\n",
              "Blade_Type                  0\n",
              "Travel_Controls             0\n",
              "Differential_Type           0\n",
              "Steering_Controls           0\n",
              "saleYear                    0\n",
              "saleMonth                   0\n",
              "saleDay                     0\n",
              "saleDayOfWeek               0\n",
              "saleDayOfYear               0\n",
              "dtype: int64"
            ]
          },
          "metadata": {
            "tags": []
          },
          "execution_count": 25
        }
      ]
    },
    {
      "cell_type": "markdown",
      "metadata": {
        "id": "kbN-p9fTWeDD"
      },
      "source": [
        "No more missing values are there in our dataframe.\n",
        "\n",
        "Besides, all of our data are now numeric.\n",
        "\n",
        "So, we can fit machine learning models now."
      ]
    },
    {
      "cell_type": "markdown",
      "metadata": {
        "id": "swpomOxA73mt"
      },
      "source": [
        "## Let's start Model Driven EDA"
      ]
    },
    {
      "cell_type": "code",
      "metadata": {
        "id": "Ap-64Vsm7Mre"
      },
      "source": [
        "from sklearn.ensemble import RandomForestRegressor\n",
        "\n",
        "model = RandomForestRegressor(n_jobs=-1, random_state=42) # use all the cores of processor, set random seed to 42"
      ],
      "execution_count": 26,
      "outputs": []
    },
    {
      "cell_type": "code",
      "metadata": {
        "colab": {
          "base_uri": "https://localhost:8080/"
        },
        "id": "-wHxtrCyZYB0",
        "outputId": "d08eb1e8-ada5-4da9-da08-a3fec6051b9e"
      },
      "source": [
        "%%time\n",
        "\n",
        "model.fit(df_tmp.drop(\"SalePrice\", axis=1), df_tmp[\"SalePrice\"])"
      ],
      "execution_count": 27,
      "outputs": [
        {
          "output_type": "stream",
          "text": [
            "CPU times: user 16min 26s, sys: 4.46 s, total: 16min 31s\n",
            "Wall time: 8min 26s\n"
          ],
          "name": "stdout"
        },
        {
          "output_type": "execute_result",
          "data": {
            "text/plain": [
              "RandomForestRegressor(bootstrap=True, ccp_alpha=0.0, criterion='mse',\n",
              "                      max_depth=None, max_features='auto', max_leaf_nodes=None,\n",
              "                      max_samples=None, min_impurity_decrease=0.0,\n",
              "                      min_impurity_split=None, min_samples_leaf=1,\n",
              "                      min_samples_split=2, min_weight_fraction_leaf=0.0,\n",
              "                      n_estimators=100, n_jobs=-1, oob_score=False,\n",
              "                      random_state=42, verbose=0, warm_start=False)"
            ]
          },
          "metadata": {
            "tags": []
          },
          "execution_count": 27
        }
      ]
    },
    {
      "cell_type": "code",
      "metadata": {
        "id": "L4Tdb1x_hWdd"
      },
      "source": [
        "# # Save the model\n",
        "# from joblib import dump, load\n",
        "\n",
        "# dump(model, filename=\"price_model_1.joblib\")"
      ],
      "execution_count": 39,
      "outputs": []
    },
    {
      "cell_type": "code",
      "metadata": {
        "colab": {
          "base_uri": "https://localhost:8080/"
        },
        "id": "JnfC4g8NZpZp",
        "outputId": "5cae354e-ab8a-409d-8ba6-bb06af235187"
      },
      "source": [
        "# Score\n",
        "model.score(df_tmp.drop(\"SalePrice\", axis=1), df_tmp[\"SalePrice\"])"
      ],
      "execution_count": 40,
      "outputs": [
        {
          "output_type": "execute_result",
          "data": {
            "text/plain": [
              "0.8596954864312933"
            ]
          },
          "metadata": {
            "tags": []
          },
          "execution_count": 40
        }
      ]
    },
    {
      "cell_type": "markdown",
      "metadata": {
        "id": "Wp9eQu3KdbWr"
      },
      "source": [
        "But this above metric isn't much reliable because, we are testing on the exact same dataset that we used to train the model."
      ]
    },
    {
      "cell_type": "markdown",
      "metadata": {
        "id": "ZFyEzxWqefzY"
      },
      "source": [
        "### Split data into train/validation set"
      ]
    },
    {
      "cell_type": "code",
      "metadata": {
        "id": "tuGwuKDrc_XA"
      },
      "source": [
        "df_val = df_tmp[df_tmp.saleYear == 2012]\n",
        "df_train = df_tmp[df_tmp.saleYear != 2012]"
      ],
      "execution_count": 41,
      "outputs": []
    },
    {
      "cell_type": "code",
      "metadata": {
        "colab": {
          "base_uri": "https://localhost:8080/"
        },
        "id": "KTows03ve3qd",
        "outputId": "cba08e44-9d49-4f9f-c95a-6edda60881b3"
      },
      "source": [
        "len(df_train), len(df_val)"
      ],
      "execution_count": 42,
      "outputs": [
        {
          "output_type": "execute_result",
          "data": {
            "text/plain": [
              "(401125, 11573)"
            ]
          },
          "metadata": {
            "tags": []
          },
          "execution_count": 42
        }
      ]
    },
    {
      "cell_type": "code",
      "metadata": {
        "id": "Cx1jBo_ne6fJ"
      },
      "source": [
        "# Split into X/y\n",
        "\n",
        "X_train, y_train = df_train.drop(\"SalePrice\", axis=1), df_train[\"SalePrice\"]\n",
        "X_val, y_val = df_val.drop(\"SalePrice\", axis=1), df_val[\"SalePrice\"]"
      ],
      "execution_count": 43,
      "outputs": []
    },
    {
      "cell_type": "code",
      "metadata": {
        "colab": {
          "base_uri": "https://localhost:8080/"
        },
        "id": "GWyqPipvfZpP",
        "outputId": "30b0b23e-d50d-47e8-dabf-63871d2bdf91"
      },
      "source": [
        "X_train.shape, y_train.shape, X_val.shape, y_val.shape"
      ],
      "execution_count": 44,
      "outputs": [
        {
          "output_type": "execute_result",
          "data": {
            "text/plain": [
              "((401125, 56), (401125,), (11573, 56), (11573,))"
            ]
          },
          "metadata": {
            "tags": []
          },
          "execution_count": 44
        }
      ]
    },
    {
      "cell_type": "markdown",
      "metadata": {
        "id": "fHaFH50Sk5KO"
      },
      "source": [
        "### Building Evaluation Functions"
      ]
    },
    {
      "cell_type": "code",
      "metadata": {
        "id": "mD_4g885fgZu"
      },
      "source": [
        "from sklearn.metrics import mean_squared_log_error, mean_absolute_error, r2_score\n",
        "\n",
        "# Calculate Root Mean Squared Log Error (RMSLE)\n",
        "def rmsle(y_test, y_preds):\n",
        "  # Square root of mean squared log error\n",
        "  return np.sqrt(mean_squared_log_error(y_test, y_preds))\n",
        "\n",
        "\n",
        "# Evaluate different metrics\n",
        "def show_scores(model):\n",
        "  train_preds = model.predict(X_train)\n",
        "  val_preds = model.predict(X_val)\n",
        "\n",
        "  scores = {\n",
        "            \"Training MAE\": mean_absolute_error(y_train, train_preds),\n",
        "            \"Valid MAE\": mean_absolute_error(y_val, val_preds),\n",
        "            \"Training RMSLE\": rmsle(y_train, train_preds),\n",
        "            \"Valid RMSLE\": rmsle(y_val, val_preds),\n",
        "            \"Training R^2\": r2_score(y_train, train_preds),\n",
        "            \"Valid R^2\": r2_score(y_val, val_preds)\n",
        "           }\n",
        "\n",
        "  return scores"
      ],
      "execution_count": 45,
      "outputs": []
    },
    {
      "cell_type": "markdown",
      "metadata": {
        "id": "56ob71lurpKj"
      },
      "source": [
        "### Test the data on a subset to tune hyperparameters"
      ]
    },
    {
      "cell_type": "code",
      "metadata": {
        "colab": {
          "base_uri": "https://localhost:8080/"
        },
        "id": "gg5jGddlnVr_",
        "outputId": "623ff8b5-4db1-43fe-998a-5a467b586b81"
      },
      "source": [
        "len(X_train)"
      ],
      "execution_count": 46,
      "outputs": [
        {
          "output_type": "execute_result",
          "data": {
            "text/plain": [
              "401125"
            ]
          },
          "metadata": {
            "tags": []
          },
          "execution_count": 46
        }
      ]
    },
    {
      "cell_type": "code",
      "metadata": {
        "id": "1ScpsVCpq3x1"
      },
      "source": [
        "# Change max_samples value\n",
        "model = RandomForestRegressor(n_jobs=-1, random_state=42, max_samples=10000)"
      ],
      "execution_count": 47,
      "outputs": []
    },
    {
      "cell_type": "code",
      "metadata": {
        "colab": {
          "base_uri": "https://localhost:8080/"
        },
        "id": "ICdYaCvGrYos",
        "outputId": "2100875f-a188-43c5-c701-a5e2e04934ff"
      },
      "source": [
        "%%time\n",
        "\n",
        "model.fit(X_train, y_train)"
      ],
      "execution_count": 48,
      "outputs": [
        {
          "output_type": "stream",
          "text": [
            "CPU times: user 32 s, sys: 129 ms, total: 32.2 s\n",
            "Wall time: 16.7 s\n"
          ],
          "name": "stdout"
        },
        {
          "output_type": "execute_result",
          "data": {
            "text/plain": [
              "RandomForestRegressor(bootstrap=True, ccp_alpha=0.0, criterion='mse',\n",
              "                      max_depth=None, max_features='auto', max_leaf_nodes=None,\n",
              "                      max_samples=10000, min_impurity_decrease=0.0,\n",
              "                      min_impurity_split=None, min_samples_leaf=1,\n",
              "                      min_samples_split=2, min_weight_fraction_leaf=0.0,\n",
              "                      n_estimators=100, n_jobs=-1, oob_score=False,\n",
              "                      random_state=42, verbose=0, warm_start=False)"
            ]
          },
          "metadata": {
            "tags": []
          },
          "execution_count": 48
        }
      ]
    },
    {
      "cell_type": "code",
      "metadata": {
        "id": "0NXZ4jhPrdXU",
        "colab": {
          "base_uri": "https://localhost:8080/"
        },
        "outputId": "b349bca1-0aa0-4e11-b5a7-a1d1e913b1e1"
      },
      "source": [
        "show_scores(model)"
      ],
      "execution_count": 49,
      "outputs": [
        {
          "output_type": "execute_result",
          "data": {
            "text/plain": [
              "{'Training MAE': 5563.72867258336,\n",
              " 'Training RMSLE': 0.2578202020674087,\n",
              " 'Training R^2': 0.8605936890077203,\n",
              " 'Valid MAE': 7168.9377352458305,\n",
              " 'Valid RMSLE': 0.2929702627803096,\n",
              " 'Valid R^2': 0.8322757239076886}"
            ]
          },
          "metadata": {
            "tags": []
          },
          "execution_count": 49
        }
      ]
    },
    {
      "cell_type": "markdown",
      "metadata": {
        "id": "D1AZMzhKH8UX"
      },
      "source": [
        "### Hyperparameter tuning with RandomizedSearchCV"
      ]
    },
    {
      "cell_type": "code",
      "metadata": {
        "colab": {
          "base_uri": "https://localhost:8080/"
        },
        "id": "X9WhaxaiGUfi",
        "outputId": "903aca19-3381-4c6e-dfec-62065486c8ae"
      },
      "source": [
        "%%time\n",
        "\n",
        "from sklearn.model_selection import RandomizedSearchCV\n",
        "\n",
        "rf_grid = {\n",
        "    \"n_estimators\": np.arange(10, 100, 10),\n",
        "    \"max_depth\": [None, 3, 5, 10],\n",
        "    \"min_samples_split\": np.arange(2, 20, 2),\n",
        "    \"min_samples_leaf\": np.arange(1, 20, 2),\n",
        "    \"max_features\": [0.5, 1, \"sqrt\", \"auto\"],\n",
        "    \"max_samples\": [10000]\n",
        "}\n",
        "\n",
        "rs_model = RandomizedSearchCV(RandomForestRegressor(n_jobs=-1, random_state=42), param_distributions=rf_grid, n_iter=2, cv=5, verbose=True)\n",
        "\n",
        "rs_model.fit(X_train, y_train)"
      ],
      "execution_count": 50,
      "outputs": [
        {
          "output_type": "stream",
          "text": [
            "Fitting 5 folds for each of 2 candidates, totalling 10 fits\n"
          ],
          "name": "stdout"
        },
        {
          "output_type": "stream",
          "text": [
            "[Parallel(n_jobs=1)]: Using backend SequentialBackend with 1 concurrent workers.\n",
            "[Parallel(n_jobs=1)]: Done  10 out of  10 | elapsed:   29.7s finished\n"
          ],
          "name": "stderr"
        },
        {
          "output_type": "stream",
          "text": [
            "CPU times: user 6.74 s, sys: 827 ms, total: 7.57 s\n",
            "Wall time: 31 s\n"
          ],
          "name": "stdout"
        }
      ]
    },
    {
      "cell_type": "code",
      "metadata": {
        "colab": {
          "base_uri": "https://localhost:8080/"
        },
        "id": "0jcUKz_WJg5s",
        "outputId": "7cc076ec-4164-48dc-cdc7-86c3ab1cfa36"
      },
      "source": [
        "rs_model.best_params_"
      ],
      "execution_count": 51,
      "outputs": [
        {
          "output_type": "execute_result",
          "data": {
            "text/plain": [
              "{'max_depth': 10,\n",
              " 'max_features': 'auto',\n",
              " 'max_samples': 10000,\n",
              " 'min_samples_leaf': 7,\n",
              " 'min_samples_split': 4,\n",
              " 'n_estimators': 10}"
            ]
          },
          "metadata": {
            "tags": []
          },
          "execution_count": 51
        }
      ]
    },
    {
      "cell_type": "code",
      "metadata": {
        "colab": {
          "base_uri": "https://localhost:8080/"
        },
        "id": "Bko5IKv2J739",
        "outputId": "8cb9a82f-d062-49cf-faa8-224cbdb94743"
      },
      "source": [
        "show_scores(rs_model)"
      ],
      "execution_count": 52,
      "outputs": [
        {
          "output_type": "execute_result",
          "data": {
            "text/plain": [
              "{'Training MAE': 6695.643384862238,\n",
              " 'Training RMSLE': 0.2991697235462587,\n",
              " 'Training R^2': 0.8041997891139298,\n",
              " 'Valid MAE': 8177.286069878996,\n",
              " 'Valid RMSLE': 0.3253976691082237,\n",
              " 'Valid R^2': 0.7797901019303817}"
            ]
          },
          "metadata": {
            "tags": []
          },
          "execution_count": 52
        }
      ]
    },
    {
      "cell_type": "markdown",
      "metadata": {
        "id": "z6Fmj7axOzdq"
      },
      "source": [
        "### Train the model with the best hyperparameters\n",
        "\n",
        "These hyperparameters were found after 100 iterations of RandomizedSearchCV"
      ]
    },
    {
      "cell_type": "code",
      "metadata": {
        "colab": {
          "base_uri": "https://localhost:8080/"
        },
        "id": "zD7swplDNgqc",
        "outputId": "f77f246c-1f61-42e7-e509-d724555e9082"
      },
      "source": [
        "%%time\n",
        "\n",
        "ideal_model = RandomForestRegressor(n_jobs=-1, random_state=42, n_estimators=40, min_samples_leaf=1, min_samples_split=14, max_features=0.5, max_samples=None)\n",
        "\n",
        "ideal_model.fit(X_train, y_train)"
      ],
      "execution_count": 53,
      "outputs": [
        {
          "output_type": "stream",
          "text": [
            "CPU times: user 3min 1s, sys: 251 ms, total: 3min 1s\n",
            "Wall time: 1min 32s\n"
          ],
          "name": "stdout"
        }
      ]
    },
    {
      "cell_type": "code",
      "metadata": {
        "colab": {
          "base_uri": "https://localhost:8080/"
        },
        "id": "ZwxBJBmePfei",
        "outputId": "69b2a485-7e22-4b2c-acc5-7a9438fc2ac9"
      },
      "source": [
        "show_scores(ideal_model)"
      ],
      "execution_count": 54,
      "outputs": [
        {
          "output_type": "execute_result",
          "data": {
            "text/plain": [
              "{'Training MAE': 2942.3406510781565,\n",
              " 'Training RMSLE': 0.144153608169812,\n",
              " 'Training R^2': 0.9591796499547254,\n",
              " 'Valid MAE': 5963.47989565748,\n",
              " 'Valid RMSLE': 0.24694437453455995,\n",
              " 'Valid R^2': 0.8813934466550004}"
            ]
          },
          "metadata": {
            "tags": []
          },
          "execution_count": 54
        }
      ]
    },
    {
      "cell_type": "markdown",
      "metadata": {
        "id": "7sV3YGmURP3s"
      },
      "source": [
        "## Make Predictions on Test Data\n",
        "\n",
        "Test dataframe must be in the exact same form as the training and validation dataframe"
      ]
    },
    {
      "cell_type": "code",
      "metadata": {
        "id": "j5aR2quaQRkQ"
      },
      "source": [
        "df_test = pd.read_csv(\"/content/drive/MyDrive/Bulldozer Price/Dataset/Test.csv\", parse_dates=[\"saledate\"], low_memory=False)"
      ],
      "execution_count": 55,
      "outputs": []
    },
    {
      "cell_type": "code",
      "metadata": {
        "id": "vz8U630wSKX3"
      },
      "source": [
        "def preprocess_data(df):\n",
        "  df[\"saleYear\"] = df.saledate.dt.year\n",
        "  df[\"saleMonth\"] = df.saledate.dt.month\n",
        "  df[\"saleDay\"] = df.saledate.dt.day\n",
        "  df[\"saleDayOfWeek\"] = df.saledate.dt.dayofweek\n",
        "  df[\"saleDayOfYear\"] = df.saledate.dt.dayofyear\n",
        "\n",
        "  df.sort_values(by=[\"saledate\"], ascending=True, inplace=True)\n",
        "\n",
        "  df.drop(\"saledate\", axis=1, inplace=True)\n",
        "\n",
        "  # Find the columns that has dtype string\n",
        "\n",
        "  # label is the label name, content is the contents of that label\n",
        "  for label, content in df.items():\n",
        "    if pd.api.types.is_string_dtype(content):\n",
        "      df[label] = content.astype(\"category\").cat.as_ordered() # convert string dtypes into category dtype\n",
        "\n",
        "  # Fill missing values with median value\n",
        "  for label, content in df.items():\n",
        "    if pd.api.types.is_numeric_dtype(content):\n",
        "      if pd.isnull(content).sum():\n",
        "        df[label] = content.fillna(content.median())\n",
        "\n",
        "  for label, content in df.items():\n",
        "    # as the columns that are not numeric will be of pandas category type\n",
        "    if not pd.api.types.is_numeric_dtype(content):\n",
        "      # Turn categories into numbers\n",
        "      df[label] = pd.Categorical(content).codes+1\n",
        "\n",
        "  return df"
      ],
      "execution_count": 63,
      "outputs": []
    },
    {
      "cell_type": "code",
      "metadata": {
        "id": "uW820wGcTwjR"
      },
      "source": [
        "df_test = preprocess_data(df_test)"
      ],
      "execution_count": 64,
      "outputs": []
    },
    {
      "cell_type": "code",
      "metadata": {
        "id": "9VZKJ3b-mL5n"
      },
      "source": [
        "# Make predictions on the test data\n",
        "test_preds = ideal_model.predict(df_test)"
      ],
      "execution_count": 66,
      "outputs": []
    },
    {
      "cell_type": "code",
      "metadata": {
        "colab": {
          "base_uri": "https://localhost:8080/"
        },
        "id": "i7yTmvLEmW30",
        "outputId": "d9a85e66-3823-4113-d51e-9ab274616252"
      },
      "source": [
        "len(test_preds)"
      ],
      "execution_count": 67,
      "outputs": [
        {
          "output_type": "execute_result",
          "data": {
            "text/plain": [
              "12457"
            ]
          },
          "metadata": {
            "tags": []
          },
          "execution_count": 67
        }
      ]
    },
    {
      "cell_type": "code",
      "metadata": {
        "colab": {
          "base_uri": "https://localhost:8080/"
        },
        "id": "MN6LHPDzmYJA",
        "outputId": "d5e56dc3-1573-43ff-af36-2c04ab11d824"
      },
      "source": [
        "test_preds"
      ],
      "execution_count": 68,
      "outputs": [
        {
          "output_type": "execute_result",
          "data": {
            "text/plain": [
              "array([10013.24359795, 19204.05231274, 23832.71657335, ...,\n",
              "       47706.41938418, 45773.18682996, 33899.42595578])"
            ]
          },
          "metadata": {
            "tags": []
          },
          "execution_count": 68
        }
      ]
    },
    {
      "cell_type": "markdown",
      "metadata": {
        "id": "LmeMemxMm5Yr"
      },
      "source": [
        "But our prediction output is not in the form that Kaggle has asked for: https://www.kaggle.com/c/bluebook-for-bulldozers/overview/evaluation"
      ]
    },
    {
      "cell_type": "code",
      "metadata": {
        "colab": {
          "base_uri": "https://localhost:8080/",
          "height": 419
        },
        "id": "_Y54h4dSmv3W",
        "outputId": "23b5ca16-72d7-4855-cfc1-499a45eac5fc"
      },
      "source": [
        "df_preds = pd.DataFrame()\n",
        "\n",
        "df_preds[\"SalesID\"] = df_test[\"SalesID\"]\n",
        "df_preds[\"SalePrice\"] = test_preds\n",
        "\n",
        "df_preds"
      ],
      "execution_count": 69,
      "outputs": [
        {
          "output_type": "execute_result",
          "data": {
            "text/html": [
              "<div>\n",
              "<style scoped>\n",
              "    .dataframe tbody tr th:only-of-type {\n",
              "        vertical-align: middle;\n",
              "    }\n",
              "\n",
              "    .dataframe tbody tr th {\n",
              "        vertical-align: top;\n",
              "    }\n",
              "\n",
              "    .dataframe thead th {\n",
              "        text-align: right;\n",
              "    }\n",
              "</style>\n",
              "<table border=\"1\" class=\"dataframe\">\n",
              "  <thead>\n",
              "    <tr style=\"text-align: right;\">\n",
              "      <th></th>\n",
              "      <th>SalesID</th>\n",
              "      <th>SalePrice</th>\n",
              "    </tr>\n",
              "  </thead>\n",
              "  <tbody>\n",
              "    <tr>\n",
              "      <th>1408</th>\n",
              "      <td>4317459</td>\n",
              "      <td>10013.243598</td>\n",
              "    </tr>\n",
              "    <tr>\n",
              "      <th>1023</th>\n",
              "      <td>4249784</td>\n",
              "      <td>19204.052313</td>\n",
              "    </tr>\n",
              "    <tr>\n",
              "      <th>1728</th>\n",
              "      <td>4392603</td>\n",
              "      <td>23832.716573</td>\n",
              "    </tr>\n",
              "    <tr>\n",
              "      <th>1167</th>\n",
              "      <td>4274831</td>\n",
              "      <td>26034.006472</td>\n",
              "    </tr>\n",
              "    <tr>\n",
              "      <th>1594</th>\n",
              "      <td>4362801</td>\n",
              "      <td>11749.617427</td>\n",
              "    </tr>\n",
              "    <tr>\n",
              "      <th>...</th>\n",
              "      <td>...</td>\n",
              "      <td>...</td>\n",
              "    </tr>\n",
              "    <tr>\n",
              "      <th>9941</th>\n",
              "      <td>6620191</td>\n",
              "      <td>8286.822992</td>\n",
              "    </tr>\n",
              "    <tr>\n",
              "      <th>9936</th>\n",
              "      <td>6620142</td>\n",
              "      <td>12682.659372</td>\n",
              "    </tr>\n",
              "    <tr>\n",
              "      <th>11620</th>\n",
              "      <td>6635116</td>\n",
              "      <td>47706.419384</td>\n",
              "    </tr>\n",
              "    <tr>\n",
              "      <th>9995</th>\n",
              "      <td>6621460</td>\n",
              "      <td>45773.186830</td>\n",
              "    </tr>\n",
              "    <tr>\n",
              "      <th>9803</th>\n",
              "      <td>6469532</td>\n",
              "      <td>33899.425956</td>\n",
              "    </tr>\n",
              "  </tbody>\n",
              "</table>\n",
              "<p>12457 rows × 2 columns</p>\n",
              "</div>"
            ],
            "text/plain": [
              "       SalesID     SalePrice\n",
              "1408   4317459  10013.243598\n",
              "1023   4249784  19204.052313\n",
              "1728   4392603  23832.716573\n",
              "1167   4274831  26034.006472\n",
              "1594   4362801  11749.617427\n",
              "...        ...           ...\n",
              "9941   6620191   8286.822992\n",
              "9936   6620142  12682.659372\n",
              "11620  6635116  47706.419384\n",
              "9995   6621460  45773.186830\n",
              "9803   6469532  33899.425956\n",
              "\n",
              "[12457 rows x 2 columns]"
            ]
          },
          "metadata": {
            "tags": []
          },
          "execution_count": 69
        }
      ]
    },
    {
      "cell_type": "code",
      "metadata": {
        "id": "X_xJ-T-MnhN4"
      },
      "source": [
        "# Export predictions data\n",
        "df_preds.to_csv(\"/content/drive/MyDrive/Bulldozer Price/test_predictions.csv\", index=False)"
      ],
      "execution_count": 70,
      "outputs": []
    },
    {
      "cell_type": "markdown",
      "metadata": {
        "id": "qUMp_xTBoqnj"
      },
      "source": [
        "## Feature Importance\n",
        "\n",
        "Seek to find out which different attributes of the data were most important when it comes to predicting the target variable."
      ]
    },
    {
      "cell_type": "code",
      "metadata": {
        "id": "IDHyMmCFoNe1"
      },
      "source": [
        "def plot_features(columns, importances, n=20):\n",
        "  df = (pd.DataFrame({\n",
        "      \"features\": columns,\n",
        "      \"feature_importances\": importances\n",
        "  }).sort_values(\"feature_importances\", ascending=False).reset_index(drop=True))\n",
        "\n",
        "  fig, ax = plt.subplots(figsize=(12, 10))\n",
        "  ax.barh(df[\"features\"][:n], df[\"feature_importances\"][:20])\n",
        "\n",
        "  ax.set_xlabel(\"Feature Importance\")\n",
        "  ax.set_ylabel(\"Features\")\n",
        "\n",
        "  ax.invert_yaxis()"
      ],
      "execution_count": 73,
      "outputs": []
    },
    {
      "cell_type": "code",
      "metadata": {
        "colab": {
          "base_uri": "https://localhost:8080/",
          "height": 602
        },
        "id": "7wzTWz7OqjFm",
        "outputId": "58f57538-c384-4506-ff85-104498eb4533"
      },
      "source": [
        "plot_features(X_train.columns, ideal_model.feature_importances_)"
      ],
      "execution_count": 74,
      "outputs": [
        {
          "output_type": "display_data",
          "data": {
            "image/png": "[encoded data removed]",
            "text/plain": [
              "<Figure size 864x720 with 1 Axes>"
            ]
          },
          "metadata": {
            "tags": [],
            "needs_background": "light"
          }
        }
      ]
    },
    {
      "cell_type": "markdown",
      "metadata": {
        "id": "3MH361DgrkTR"
      },
      "source": [
        "---"
      ]
    }
  ]
}