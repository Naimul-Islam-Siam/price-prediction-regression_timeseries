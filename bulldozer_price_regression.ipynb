{
  "nbformat": 4,
  "nbformat_minor": 0,
  "metadata": {
    "colab": {
      "name": "bulldozer-price-regression.ipynb",
      "provenance": []
    },
    "kernelspec": {
      "name": "python3",
      "display_name": "Python 3"
    },
    "language_info": {
      "name": "python"
    }
  },
  "cells": [
    {
      "cell_type": "markdown",
      "metadata": {
        "id": "b0PivIqPX56o"
      },
      "source": [
        "## Predicting the Sale Price of Bulldozers\n",
        "\n",
        "In this notebook, we're going through a machine learning project with the goal of predicting the sale price of bulldozers."
      ]
    },
    {
      "cell_type": "markdown",
      "metadata": {
        "id": "DcBlQetpZImq"
      },
      "source": [
        "## 1. Problem Definition\n",
        "\n",
        "Predict the future sale price of a bulldozer, given previous examples of how much a smilar bulldozer had been sold for?"
      ]
    },
    {
      "cell_type": "markdown",
      "metadata": {
        "id": "f9bwd9zuaGPW"
      },
      "source": [
        "## 2. Data\n",
        "\n",
        "We are using Blue Book for Bulldozers dataset from kaggle: https://www.kaggle.com/c/bluebook-for-bulldozers/data\n",
        "\n",
        "The data for this project is split into three parts:\n",
        "\n",
        "- Train.csv is the training set, which contains data through the end of 2011.\n",
        "- Valid.csv is the validation set, which contains data from January 1, 2012 - April 30, 2012.\n",
        "- Test.csv is the test set, which contains data from May 1, 2012 - November 2012."
      ]
    },
    {
      "cell_type": "markdown",
      "metadata": {
        "id": "T7IxEU__bC0D"
      },
      "source": [
        "## 3. Evaluation\n",
        "\n",
        "The goal for most of the regression problems is to minimize error. For example, our goal for this project is to build a machine learning model which minimize RMSLE(Root Mean Square Log Error)."
      ]
    },
    {
      "cell_type": "code",
      "metadata": {
        "id": "2sElah73Xnc2"
      },
      "source": [
        "import pandas as pd\n",
        "import numpy as np\n",
        "import matplotlib.pyplot as plt\n",
        "plt.style.use('seaborn-whitegrid')"
      ],
      "execution_count": 1,
      "outputs": []
    },
    {
      "cell_type": "code",
      "metadata": {
        "id": "Lpy5QFSQY4lj"
      },
      "source": [
        ""
      ],
      "execution_count": 1,
      "outputs": []
    }
  ]
}